{
 "cells": [
  {
   "cell_type": "code",
   "execution_count": 6,
   "metadata": {},
   "outputs": [],
   "source": [
    "import pandas as pd\n",
    "import numpy as np\n",
    "import matplotlib.pyplot as plt\n",
    "import seaborn as sns\n",
    "from sklearn.model_selection import train_test_split\n",
    "from sklearn.preprocessing import StandardScaler\n",
    "from sklearn.ensemble import RandomForestClassifier\n",
    "from sklearn.metrics import accuracy_score, precision_score, recall_score, f1_score, confusion_matrix\n",
    "from imblearn.under_sampling import RandomUnderSampler\n",
    "from sklearn.metrics import classification_report"
   ]
  },
  {
   "cell_type": "code",
   "execution_count": 16,
   "metadata": {},
   "outputs": [
    {
     "name": "stdout",
     "output_type": "stream",
     "text": [
      "Class Distribution:\n",
      "0.0    45683\n",
      "1.0     4317\n",
      "Name: fraud, dtype: int64\n"
     ]
    }
   ],
   "source": [
    "# Load your dataset\n",
    "df = pd.read_csv('card_transdata.csv')\n",
    "df = df.head(50000)\n",
    "# Display class distribution\n",
    "print(\"Class Distribution:\")\n",
    "print(df['fraud'].value_counts())"
   ]
  },
  {
   "cell_type": "code",
   "execution_count": 17,
   "metadata": {},
   "outputs": [],
   "source": [
    "# Separate features and labels in the original dataset\n",
    "X = df.drop('fraud', axis=1)\n",
    "y = df['fraud']\n",
    "\n",
    "# Split the data into training and testing sets\n",
    "X_train, X_test, y_train, y_test = train_test_split(X, y, test_size=0.2, random_state=42)\n",
    "\n",
    "# Create a Random Forest Classifier for the original data\n",
    "rf_classifier = RandomForestClassifier(random_state=42)\n",
    "rf_classifier.fit(X_train, y_train)\n",
    "\n",
    "# Make predictions on the test set\n",
    "y_pred = rf_classifier.predict(X_test)"
   ]
  },
  {
   "cell_type": "code",
   "execution_count": 18,
   "metadata": {},
   "outputs": [
    {
     "name": "stdout",
     "output_type": "stream",
     "text": [
      "Classification Report (Original Data):\n",
      "              precision    recall  f1-score   support\n",
      "\n",
      "         0.0       1.00      1.00      1.00      9154\n",
      "         1.0       1.00      1.00      1.00       846\n",
      "\n",
      "    accuracy                           1.00     10000\n",
      "   macro avg       1.00      1.00      1.00     10000\n",
      "weighted avg       1.00      1.00      1.00     10000\n",
      "\n"
     ]
    }
   ],
   "source": [
    "# Evaluate the model on the original data\n",
    "print('Classification Report (Original Data):')\n",
    "print(classification_report(y_test, y_pred))"
   ]
  },
  {
   "cell_type": "code",
   "execution_count": 19,
   "metadata": {},
   "outputs": [],
   "source": [
    "# Create a RandomUnderSampler for the minority class only\n",
    "rus = RandomUnderSampler(sampling_strategy={1: 874}, random_state=42)"
   ]
  },
  {
   "cell_type": "code",
   "execution_count": 20,
   "metadata": {},
   "outputs": [],
   "source": [
    "# Fit and transform the data\n",
    "X_resampled, y_resampled = rus.fit_resample(X, y)"
   ]
  },
  {
   "cell_type": "code",
   "execution_count": 21,
   "metadata": {},
   "outputs": [],
   "source": [
    "# Combine the features and labels into a new DataFrame\n",
    "df_resampled = pd.concat([pd.DataFrame(X_resampled, columns=X.columns), pd.Series(y_resampled, name='fraud_label')], axis=1)"
   ]
  },
  {
   "cell_type": "code",
   "execution_count": 22,
   "metadata": {},
   "outputs": [
    {
     "name": "stdout",
     "output_type": "stream",
     "text": [
      "\n",
      "Resampled Class Distribution:\n",
      "0.0    45683\n",
      "1.0      874\n",
      "Name: fraud_label, dtype: int64\n"
     ]
    }
   ],
   "source": [
    "# Display the new class distribution\n",
    "print(\"\\nResampled Class Distribution:\")\n",
    "print(df_resampled['fraud_label'].value_counts())"
   ]
  },
  {
   "cell_type": "code",
   "execution_count": 23,
   "metadata": {},
   "outputs": [
    {
     "data": {
      "text/plain": [
       "RandomForestClassifier(random_state=42)"
      ]
     },
     "execution_count": 23,
     "metadata": {},
     "output_type": "execute_result"
    }
   ],
   "source": [
    "# Create an instance of the Random Forest model for the resampled data\n",
    "rf_model_resampled = RandomForestClassifier(random_state=42)\n",
    "rf_model_resampled.fit(X_resampled, y_resampled)"
   ]
  },
  {
   "cell_type": "code",
   "execution_count": 24,
   "metadata": {},
   "outputs": [
    {
     "name": "stdout",
     "output_type": "stream",
     "text": [
      "\n",
      "Original Data Metrics:\n",
      "Accuracy: 0.9989\n",
      "Precision: 1.0000\n",
      "Recall: 0.9875\n",
      "F1 Score: 0.9937\n",
      "\n",
      "Resampled Data Metrics:\n",
      "Accuracy: 1.0000\n",
      "Precision: 1.0000\n",
      "Recall: 1.0000\n",
      "F1 Score: 1.0000\n"
     ]
    }
   ],
   "source": [
    "# Calculate evaluation metrics on the original data\n",
    "y_pred_original = rf_model_resampled.predict(X)\n",
    "accuracy_original = accuracy_score(y, y_pred_original)\n",
    "precision_original = precision_score(y, y_pred_original)\n",
    "recall_original = recall_score(y, y_pred_original)\n",
    "f1_original = f1_score(y, y_pred_original)\n",
    "\n",
    "print(\"\\nOriginal Data Metrics:\")\n",
    "print(f\"Accuracy: {accuracy_original:.4f}\")\n",
    "print(f\"Precision: {precision_original:.4f}\")\n",
    "print(f\"Recall: {recall_original:.4f}\")\n",
    "print(f\"F1 Score: {f1_original:.4f}\")\n",
    "\n",
    "# Calculate evaluation metrics on the resampled data\n",
    "y_pred_resampled = rf_model_resampled.predict(X_resampled)\n",
    "accuracy_resampled = accuracy_score(y_resampled, y_pred_resampled)\n",
    "precision_resampled = precision_score(y_resampled, y_pred_resampled)\n",
    "recall_resampled = recall_score(y_resampled, y_pred_resampled)\n",
    "f1_resampled = f1_score(y_resampled, y_pred_resampled)\n",
    "\n",
    "print(\"\\nResampled Data Metrics:\")\n",
    "print(f\"Accuracy: {accuracy_resampled:.4f}\")\n",
    "print(f\"Precision: {precision_resampled:.4f}\")\n",
    "print(f\"Recall: {recall_resampled:.4f}\")\n",
    "print(f\"F1 Score: {f1_resampled:.4f}\")"
   ]
  },
  {
   "cell_type": "code",
   "execution_count": 25,
   "metadata": {},
   "outputs": [
    {
     "name": "stdout",
     "output_type": "stream",
     "text": [
      "\n",
      "Confusion Matrix (Original Data):\n",
      "[[45683     0]\n",
      " [   54  4263]]\n"
     ]
    }
   ],
   "source": [
    "# Confusion Matrix\n",
    "conf_matrix_original = confusion_matrix(y, y_pred_original)\n",
    "print(\"\\nConfusion Matrix (Original Data):\")\n",
    "print(conf_matrix_original)"
   ]
  },
  {
   "cell_type": "code",
   "execution_count": 26,
   "metadata": {},
   "outputs": [
    {
     "name": "stdout",
     "output_type": "stream",
     "text": [
      "\n",
      "Confusion Matrix (Resampled Data):\n",
      "[[45683     0]\n",
      " [    0   874]]\n"
     ]
    }
   ],
   "source": [
    "conf_matrix_resampled = confusion_matrix(y_resampled, y_pred_resampled)\n",
    "print(\"\\nConfusion Matrix (Resampled Data):\")\n",
    "print(conf_matrix_resampled)\n"
   ]
  },
  {
   "cell_type": "code",
   "execution_count": null,
   "metadata": {},
   "outputs": [],
   "source": []
  }
 ],
 "metadata": {
  "kernelspec": {
   "display_name": "Python (learn-env)",
   "language": "python",
   "name": "learn-env"
  },
  "language_info": {
   "codemirror_mode": {
    "name": "ipython",
    "version": 3
   },
   "file_extension": ".py",
   "mimetype": "text/x-python",
   "name": "python",
   "nbconvert_exporter": "python",
   "pygments_lexer": "ipython3",
   "version": "3.8.5"
  }
 },
 "nbformat": 4,
 "nbformat_minor": 4
}
